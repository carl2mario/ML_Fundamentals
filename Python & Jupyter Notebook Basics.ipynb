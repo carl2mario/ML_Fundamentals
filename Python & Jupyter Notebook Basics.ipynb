{
 "cells": [
  {
   "cell_type": "markdown",
   "metadata": {},
   "source": [
    "# Python Basics"
   ]
  },
  {
   "cell_type": "code",
   "execution_count": null,
   "metadata": {},
   "outputs": [],
   "source": [
    "# This is an example snippet!\n",
    "# To create your own, add a new snippet block to the\n",
    "# snippets.json file in your jupyter nbextensions directory:\n",
    "# /nbextensions/snippets/snippets.json\n",
    "import this"
   ]
  },
  {
   "cell_type": "code",
   "execution_count": 3,
   "metadata": {
    "hide_input": false
   },
   "outputs": [
    {
     "name": "stdout",
     "output_type": "stream",
     "text": [
      "x1 is 0.5 and x2 is 0.85\n",
      "layer_1\n",
      "layer_2\n",
      "layer_3\n"
     ]
    }
   ],
   "source": [
    "# Print Statement\n",
    "x_1 = 0.5\n",
    "x_2 = 0.85\n",
    "\n",
    "print('x1 is {} and x2 is {}'.format(x_1, x_2))\n",
    "\n",
    "for i in range(3):\n",
    "    print('layer_{}'.format(i + 1))"
   ]
  },
  {
   "cell_type": "markdown",
   "metadata": {},
   "source": [
    "#Hidden Comments\n",
    "\n",
    "Double-click __here__ for the solution.\n",
    "<!-- The correct answer is:\n",
    "z_12 = x_1 * weights[2] + x_2 * weights[3] + biases[1]\n",
    "-->"
   ]
  },
  {
   "cell_type": "code",
   "execution_count": 12,
   "metadata": {
    "ExecuteTime": {
     "end_time": "2018-12-24T03:39:44.681000Z",
     "start_time": "2018-12-24T03:39:44.668035Z"
    }
   },
   "outputs": [
    {
     "data": {
      "text/html": [
       "<a href='https://towardsdatascience.com/bringing-the-best-out-of-jupyter-notebooks-for-data-science-f0871519ca29'>Jupyter Notebboks Medium</a>"
      ],
      "text/plain": [
       "<IPython.core.display.HTML object>"
      ]
     },
     "metadata": {},
     "output_type": "display_data"
    }
   ],
   "source": [
    "%%HTML\n",
    "<a href='https://towardsdatascience.com/bringing-the-best-out-of-jupyter-notebooks-for-data-science-f0871519ca29'>Jupyter Notebboks Medium</a>"
   ]
  },
  {
   "cell_type": "code",
   "execution_count": 4,
   "metadata": {},
   "outputs": [],
   "source": [
    "# !pip install jupyterthemes"
   ]
  },
  {
   "cell_type": "code",
   "execution_count": 5,
   "metadata": {},
   "outputs": [
    {
     "name": "stdout",
     "output_type": "stream",
     "text": [
      "Available Themes: \n",
      "   chesterish\n",
      "   grade3\n",
      "   gruvboxd\n",
      "   gruvboxl\n",
      "   monokai\n",
      "   oceans16\n",
      "   onedork\n",
      "   solarizedd\n",
      "   solarizedl\n"
     ]
    }
   ],
   "source": [
    "!jt -l"
   ]
  },
  {
   "cell_type": "code",
   "execution_count": 10,
   "metadata": {},
   "outputs": [],
   "source": [
    "!jt -t chesterish"
   ]
  },
  {
   "cell_type": "code",
   "execution_count": 11,
   "metadata": {},
   "outputs": [
    {
     "name": "stdout",
     "output_type": "stream",
     "text": [
      "Reset css and font defaults in:\n",
      "C:\\Users\\hp\\.jupyter\\custom &\n",
      "C:\\Users\\hp\\AppData\\Roaming\\jupyter\\nbextensions\n"
     ]
    }
   ],
   "source": [
    "!jt -r"
   ]
  },
  {
   "cell_type": "code",
   "execution_count": null,
   "metadata": {},
   "outputs": [],
   "source": [
    "!pip install jupyter_contrib_nbextensions && jupyter contrib nbextension install"
   ]
  },
  {
   "cell_type": "code",
   "execution_count": 2,
   "metadata": {
    "ExecuteTime": {
     "end_time": "2018-12-23T12:08:39.414702Z",
     "start_time": "2018-12-23T12:08:39.410713Z"
    }
   },
   "outputs": [],
   "source": [
    "from ipywidgets import interact\n",
    "import ipywidgets as widgets"
   ]
  },
  {
   "cell_type": "code",
   "execution_count": 3,
   "metadata": {
    "ExecuteTime": {
     "end_time": "2018-12-23T12:08:40.231680Z",
     "start_time": "2018-12-23T12:08:40.186803Z"
    }
   },
   "outputs": [
    {
     "data": {
      "application/vnd.jupyter.widget-view+json": {
       "model_id": "8f954fd28ac849ce84a64af5fa1a0cd1",
       "version_major": 2,
       "version_minor": 0
      },
      "text/plain": [
       "interactive(children=(IntSlider(value=10, description='x', max=30, min=-10), Output()), _dom_classes=('widget-…"
      ]
     },
     "metadata": {},
     "output_type": "display_data"
    }
   ],
   "source": [
    "def f(x):\n",
    "    return x\n",
    "# Generate a slider \n",
    "interact(f, x=10,);"
   ]
  },
  {
   "cell_type": "code",
   "execution_count": 4,
   "metadata": {
    "ExecuteTime": {
     "end_time": "2018-12-23T12:08:41.506518Z",
     "start_time": "2018-12-23T12:08:41.477597Z"
    }
   },
   "outputs": [
    {
     "data": {
      "application/vnd.jupyter.widget-view+json": {
       "model_id": "5cfa63e187d744a2b4b92025308cefed",
       "version_major": 2,
       "version_minor": 0
      },
      "text/plain": [
       "interactive(children=(Checkbox(value=True, description='x'), Output()), _dom_classes=('widget-interact',))"
      ]
     },
     "metadata": {},
     "output_type": "display_data"
    }
   ],
   "source": [
    "# Booleans generate check-boxes\n",
    "interact(f, x=True);"
   ]
  },
  {
   "cell_type": "code",
   "execution_count": 5,
   "metadata": {
    "ExecuteTime": {
     "end_time": "2018-12-23T12:08:41.993615Z",
     "start_time": "2018-12-23T12:08:41.959705Z"
    }
   },
   "outputs": [
    {
     "data": {
      "application/vnd.jupyter.widget-view+json": {
       "model_id": "82997f905bc845e09c0810636ebe2f4b",
       "version_major": 2,
       "version_minor": 0
      },
      "text/plain": [
       "interactive(children=(Text(value='Hi there!', description='x'), Output()), _dom_classes=('widget-interact',))"
      ]
     },
     "metadata": {},
     "output_type": "display_data"
    }
   ],
   "source": [
    "# Strings generate text areas\n",
    "interact(f, x='Hi there!');"
   ]
  },
  {
   "cell_type": "code",
   "execution_count": 6,
   "metadata": {
    "ExecuteTime": {
     "end_time": "2018-12-23T12:08:42.458364Z",
     "start_time": "2018-12-23T12:08:42.415480Z"
    }
   },
   "outputs": [
    {
     "data": {
      "application/vnd.jupyter.widget-view+json": {
       "model_id": "21d8aee5df6f4f31b19036cb19778bed",
       "version_major": 2,
       "version_minor": 0
      },
      "text/plain": [
       "HBox(children=(Play(value=50, description='Press play'), IntSlider(value=0)))"
      ]
     },
     "metadata": {},
     "output_type": "display_data"
    }
   ],
   "source": [
    "play = widgets.Play(\n",
    "    # interval=10,\n",
    "    value=50,\n",
    "    min=0,\n",
    "    max=100,\n",
    "    step=1,\n",
    "    description=\"Press play\",\n",
    "    disabled=False\n",
    ")\n",
    "slider = widgets.IntSlider()\n",
    "widgets.jslink((play, 'value'), (slider, 'value'))\n",
    "widgets.HBox([play, slider])"
   ]
  },
  {
   "cell_type": "code",
   "execution_count": 7,
   "metadata": {
    "ExecuteTime": {
     "end_time": "2018-12-23T12:08:42.887452Z",
     "start_time": "2018-12-23T12:08:42.873489Z"
    }
   },
   "outputs": [
    {
     "data": {
      "application/vnd.jupyter.widget-view+json": {
       "model_id": "846d31d270ea4af49fa3aaa5ef0b8e97",
       "version_major": 2,
       "version_minor": 0
      },
      "text/plain": [
       "DatePicker(value=None, description='Pick a Date')"
      ]
     },
     "metadata": {},
     "output_type": "display_data"
    }
   ],
   "source": [
    "widgets.DatePicker(\n",
    "    description='Pick a Date',\n",
    "    disabled=False\n",
    ")"
   ]
  },
  {
   "cell_type": "code",
   "execution_count": 8,
   "metadata": {
    "ExecuteTime": {
     "end_time": "2018-12-23T12:08:43.651449Z",
     "start_time": "2018-12-23T12:08:43.634495Z"
    }
   },
   "outputs": [
    {
     "data": {
      "application/vnd.jupyter.widget-view+json": {
       "model_id": "9e1fccbe122e41ba96d8d36dbf491b12",
       "version_major": 2,
       "version_minor": 0
      },
      "text/plain": [
       "ColorPicker(value='blue', description='Pick a color')"
      ]
     },
     "metadata": {},
     "output_type": "display_data"
    }
   ],
   "source": [
    "widgets.ColorPicker(\n",
    "    concise=False,\n",
    "    description='Pick a color',\n",
    "    value='blue',\n",
    "    disabled=False\n",
    ")"
   ]
  },
  {
   "cell_type": "code",
   "execution_count": 9,
   "metadata": {
    "ExecuteTime": {
     "end_time": "2018-12-23T12:08:44.395918Z",
     "start_time": "2018-12-23T12:08:44.347046Z"
    }
   },
   "outputs": [
    {
     "data": {
      "application/vnd.jupyter.widget-view+json": {
       "model_id": "868e93eec45248d9bbbff08f2fe36c3a",
       "version_major": 2,
       "version_minor": 0
      },
      "text/plain": [
       "Tab(children=(Text(value='', description='P0'), Text(value='', description='P1'), Text(value='', description='…"
      ]
     },
     "metadata": {},
     "output_type": "display_data"
    }
   ],
   "source": [
    "tab_contents = ['P0', 'P1', 'P2', 'P3', 'P4']\n",
    "children = [widgets.Text(description=name) for name in tab_contents]\n",
    "tab = widgets.Tab()\n",
    "tab.children = children\n",
    "for i in range(len(children)):\n",
    "    tab.set_title(i, str(i))\n",
    "tab"
   ]
  },
  {
   "cell_type": "code",
   "execution_count": 10,
   "metadata": {
    "ExecuteTime": {
     "end_time": "2018-12-23T12:08:45.456694Z",
     "start_time": "2018-12-23T12:08:45.452705Z"
    }
   },
   "outputs": [],
   "source": [
    "# !pip install qgrid"
   ]
  },
  {
   "cell_type": "code",
   "execution_count": 32,
   "metadata": {},
   "outputs": [
    {
     "name": "stderr",
     "output_type": "stream",
     "text": [
      "Enabling notebook extension qgrid/extension...\n",
      "      - Validating: ok\n"
     ]
    }
   ],
   "source": [
    "!jupyter nbextension enable --py --sys-prefix qgrid"
   ]
  },
  {
   "cell_type": "code",
   "execution_count": 22,
   "metadata": {
    "scrolled": false
   },
   "outputs": [
    {
     "name": "stderr",
     "output_type": "stream",
     "text": [
      "Enabling notebook extension jupyter-js-widgets/extension...\n",
      "      - Validating: ok\n"
     ]
    }
   ],
   "source": [
    "!jupyter nbextension enable --py --sys-prefix widgetsnbextension"
   ]
  },
  {
   "cell_type": "code",
   "execution_count": 39,
   "metadata": {},
   "outputs": [
    {
     "name": "stderr",
     "output_type": "stream",
     "text": [
      "'qgrid.nbinstall' is not recognized as an internal or external command,\n",
      "operable program or batch file.\n"
     ]
    }
   ],
   "source": [
    "!qgrid.nbinstall(overwrite=True)"
   ]
  },
  {
   "cell_type": "code",
   "execution_count": 33,
   "metadata": {},
   "outputs": [],
   "source": [
    "import pandas as pd\n",
    "import qgrid\n",
    "df=pd.read_csv('metal_price.csv')"
   ]
  },
  {
   "cell_type": "code",
   "execution_count": 34,
   "metadata": {},
   "outputs": [],
   "source": [
    "qg=qgrid.show_grid(df,show_toolbar=True)"
   ]
  },
  {
   "cell_type": "code",
   "execution_count": 35,
   "metadata": {},
   "outputs": [
    {
     "data": {
      "text/html": [
       "<div>\n",
       "<style scoped>\n",
       "    .dataframe tbody tr th:only-of-type {\n",
       "        vertical-align: middle;\n",
       "    }\n",
       "\n",
       "    .dataframe tbody tr th {\n",
       "        vertical-align: top;\n",
       "    }\n",
       "\n",
       "    .dataframe thead th {\n",
       "        text-align: right;\n",
       "    }\n",
       "</style>\n",
       "<table border=\"1\" class=\"dataframe\">\n",
       "  <thead>\n",
       "    <tr style=\"text-align: right;\">\n",
       "      <th></th>\n",
       "      <th>Date</th>\n",
       "      <th>p0</th>\n",
       "      <th>Price</th>\n",
       "      <th>p2</th>\n",
       "      <th>f000_settle</th>\n",
       "      <th>f001_settle</th>\n",
       "      <th>f002_settle</th>\n",
       "      <th>f003_settle</th>\n",
       "      <th>f004_settle</th>\n",
       "      <th>f005_settle</th>\n",
       "      <th>...</th>\n",
       "      <th>f128_settle</th>\n",
       "      <th>f129_settle</th>\n",
       "      <th>f130_settle</th>\n",
       "      <th>f131_settle</th>\n",
       "      <th>f132_settle</th>\n",
       "      <th>f133_settle</th>\n",
       "      <th>f134_settle</th>\n",
       "      <th>f135_settle</th>\n",
       "      <th>f136_settle</th>\n",
       "      <th>f137_settle</th>\n",
       "    </tr>\n",
       "  </thead>\n",
       "  <tbody>\n",
       "    <tr>\n",
       "      <th>0</th>\n",
       "      <td>2008-12-01</td>\n",
       "      <td>444.511058</td>\n",
       "      <td>457.032497</td>\n",
       "      <td>457.032497</td>\n",
       "      <td>56.29</td>\n",
       "      <td>51.91</td>\n",
       "      <td>0.6421</td>\n",
       "      <td>31.40</td>\n",
       "      <td>31.83</td>\n",
       "      <td>1.4924</td>\n",
       "      <td>...</td>\n",
       "      <td>514.4</td>\n",
       "      <td>516.4</td>\n",
       "      <td>12545.0</td>\n",
       "      <td>12560.0</td>\n",
       "      <td>28410.0</td>\n",
       "      <td>27300.0</td>\n",
       "      <td>11655.0</td>\n",
       "      <td>10690.0</td>\n",
       "      <td>9540.0</td>\n",
       "      <td>9650.0</td>\n",
       "    </tr>\n",
       "    <tr>\n",
       "      <th>1</th>\n",
       "      <td>2008-12-02</td>\n",
       "      <td>446.908899</td>\n",
       "      <td>465.530103</td>\n",
       "      <td>459.323035</td>\n",
       "      <td>55.30</td>\n",
       "      <td>51.78</td>\n",
       "      <td>0.6354</td>\n",
       "      <td>30.77</td>\n",
       "      <td>31.20</td>\n",
       "      <td>1.4895</td>\n",
       "      <td>...</td>\n",
       "      <td>504.8</td>\n",
       "      <td>504.8</td>\n",
       "      <td>12185.0</td>\n",
       "      <td>12215.0</td>\n",
       "      <td>28260.0</td>\n",
       "      <td>27040.0</td>\n",
       "      <td>11190.0</td>\n",
       "      <td>10300.0</td>\n",
       "      <td>9510.0</td>\n",
       "      <td>9630.0</td>\n",
       "    </tr>\n",
       "    <tr>\n",
       "      <th>2</th>\n",
       "      <td>2008-12-03</td>\n",
       "      <td>453.484820</td>\n",
       "      <td>482.060575</td>\n",
       "      <td>459.696940</td>\n",
       "      <td>55.21</td>\n",
       "      <td>51.21</td>\n",
       "      <td>0.6387</td>\n",
       "      <td>30.58</td>\n",
       "      <td>30.98</td>\n",
       "      <td>1.4734</td>\n",
       "      <td>...</td>\n",
       "      <td>497.7</td>\n",
       "      <td>497.7</td>\n",
       "      <td>11715.0</td>\n",
       "      <td>11830.0</td>\n",
       "      <td>27800.0</td>\n",
       "      <td>26530.0</td>\n",
       "      <td>10605.0</td>\n",
       "      <td>10050.0</td>\n",
       "      <td>9500.0</td>\n",
       "      <td>9590.0</td>\n",
       "    </tr>\n",
       "    <tr>\n",
       "      <th>3</th>\n",
       "      <td>2008-12-04</td>\n",
       "      <td>447.532919</td>\n",
       "      <td>472.395859</td>\n",
       "      <td>459.964389</td>\n",
       "      <td>57.62</td>\n",
       "      <td>53.94</td>\n",
       "      <td>0.6413</td>\n",
       "      <td>29.50</td>\n",
       "      <td>29.87</td>\n",
       "      <td>1.4746</td>\n",
       "      <td>...</td>\n",
       "      <td>490.1</td>\n",
       "      <td>490.1</td>\n",
       "      <td>11250.0</td>\n",
       "      <td>11240.0</td>\n",
       "      <td>26760.0</td>\n",
       "      <td>25530.0</td>\n",
       "      <td>10055.0</td>\n",
       "      <td>9735.0</td>\n",
       "      <td>9145.0</td>\n",
       "      <td>9225.0</td>\n",
       "    </tr>\n",
       "    <tr>\n",
       "      <th>4</th>\n",
       "      <td>2008-12-05</td>\n",
       "      <td>447.084228</td>\n",
       "      <td>471.922241</td>\n",
       "      <td>459.503235</td>\n",
       "      <td>56.75</td>\n",
       "      <td>53.58</td>\n",
       "      <td>0.6404</td>\n",
       "      <td>28.55</td>\n",
       "      <td>28.93</td>\n",
       "      <td>1.4696</td>\n",
       "      <td>...</td>\n",
       "      <td>496.3</td>\n",
       "      <td>496.3</td>\n",
       "      <td>10685.0</td>\n",
       "      <td>10590.0</td>\n",
       "      <td>25450.0</td>\n",
       "      <td>24270.0</td>\n",
       "      <td>9965.0</td>\n",
       "      <td>9150.0</td>\n",
       "      <td>8665.0</td>\n",
       "      <td>8715.0</td>\n",
       "    </tr>\n",
       "  </tbody>\n",
       "</table>\n",
       "<p>5 rows × 142 columns</p>\n",
       "</div>"
      ],
      "text/plain": [
       "         Date          p0       Price          p2  f000_settle  f001_settle  \\\n",
       "0  2008-12-01  444.511058  457.032497  457.032497        56.29        51.91   \n",
       "1  2008-12-02  446.908899  465.530103  459.323035        55.30        51.78   \n",
       "2  2008-12-03  453.484820  482.060575  459.696940        55.21        51.21   \n",
       "3  2008-12-04  447.532919  472.395859  459.964389        57.62        53.94   \n",
       "4  2008-12-05  447.084228  471.922241  459.503235        56.75        53.58   \n",
       "\n",
       "   f002_settle  f003_settle  f004_settle  f005_settle     ...       \\\n",
       "0       0.6421        31.40        31.83       1.4924     ...        \n",
       "1       0.6354        30.77        31.20       1.4895     ...        \n",
       "2       0.6387        30.58        30.98       1.4734     ...        \n",
       "3       0.6413        29.50        29.87       1.4746     ...        \n",
       "4       0.6404        28.55        28.93       1.4696     ...        \n",
       "\n",
       "   f128_settle  f129_settle  f130_settle  f131_settle  f132_settle  \\\n",
       "0        514.4        516.4      12545.0      12560.0      28410.0   \n",
       "1        504.8        504.8      12185.0      12215.0      28260.0   \n",
       "2        497.7        497.7      11715.0      11830.0      27800.0   \n",
       "3        490.1        490.1      11250.0      11240.0      26760.0   \n",
       "4        496.3        496.3      10685.0      10590.0      25450.0   \n",
       "\n",
       "   f133_settle  f134_settle  f135_settle  f136_settle  f137_settle  \n",
       "0      27300.0      11655.0      10690.0       9540.0       9650.0  \n",
       "1      27040.0      11190.0      10300.0       9510.0       9630.0  \n",
       "2      26530.0      10605.0      10050.0       9500.0       9590.0  \n",
       "3      25530.0      10055.0       9735.0       9145.0       9225.0  \n",
       "4      24270.0       9965.0       9150.0       8665.0       8715.0  \n",
       "\n",
       "[5 rows x 142 columns]"
      ]
     },
     "execution_count": 35,
     "metadata": {},
     "output_type": "execute_result"
    }
   ],
   "source": [
    "df.head()"
   ]
  },
  {
   "cell_type": "code",
   "execution_count": 41,
   "metadata": {},
   "outputs": [
    {
     "name": "stdout",
     "output_type": "stream",
     "text": [
      "alabaster==0.7.10\n",
      "anaconda-client==1.6.14\n",
      "anaconda-navigator==1.8.7\n",
      "anaconda-project==0.8.2\n",
      "asn1crypto==0.24.0\n",
      "astroid==1.6.3\n",
      "astropy==3.0.2\n",
      "attrs==18.1.0\n",
      "Babel==2.5.3\n",
      "backcall==0.1.0\n",
      "backports.shutil-get-terminal-size==1.0.0\n",
      "beautifulsoup4==4.6.0\n",
      "bitarray==0.8.1\n",
      "bkcharts==0.2\n",
      "blaze==0.11.3\n",
      "bleach==2.1.3\n",
      "bokeh==0.12.16\n",
      "boto==2.48.0\n",
      "Bottleneck==1.2.1\n",
      "branca==0.3.1\n",
      "certifi==2018.10.15\n",
      "cffi==1.11.5\n",
      "chardet==3.0.4\n",
      "click==6.7\n",
      "click-plugins==1.0.4\n",
      "cligj==0.5.0\n",
      "cloudpickle==0.5.3\n",
      "clyent==1.2.2\n",
      "colorama==0.3.9\n",
      "comtypes==1.1.4\n",
      "conda==4.5.11\n",
      "conda-build==3.10.5\n",
      "conda-verify==2.0.0\n",
      "contextlib2==0.5.5\n",
      "cryptography==2.2.2\n",
      "cycler==0.10.0\n",
      "Cython==0.28.2\n",
      "cytoolz==0.9.0.1\n",
      "dask==0.17.5\n",
      "datashape==0.5.4\n",
      "decorator==4.3.0\n",
      "descartes==1.1.0\n",
      "distributed==1.21.8\n",
      "docutils==0.14\n",
      "entrypoints==0.2.3\n",
      "et-xmlfile==1.0.1\n",
      "fastcache==1.0.2\n",
      "filelock==3.0.4\n",
      "Fiona==1.7.13\n",
      "Flask==1.0.2\n",
      "Flask-Cors==3.0.4\n",
      "folium==0.7.0\n",
      "fuzzywuzzy==0.17.0\n",
      "GDAL==2.2.4\n",
      "geopandas==0.4.0\n",
      "gevent==1.3.0\n",
      "glob2==0.6\n",
      "greenlet==0.4.13\n",
      "h5py==2.8.0\n",
      "heapdict==1.0.0\n",
      "html5lib==1.0.1\n",
      "idna==2.6\n",
      "imageio==2.3.0\n",
      "imagesize==1.0.0\n",
      "ipykernel==4.8.2\n",
      "ipython==6.4.0\n",
      "ipython-genutils==0.2.0\n",
      "ipywidgets==7.2.1\n",
      "isort==4.3.4\n",
      "itsdangerous==0.24\n",
      "jdcal==1.4\n",
      "jedi==0.12.0\n",
      "Jinja2==2.10\n",
      "jsonschema==2.6.0\n",
      "jupyter==1.0.0\n",
      "jupyter-client==5.2.3\n",
      "jupyter-console==5.2.0\n",
      "jupyter-contrib-core==0.3.3\n",
      "jupyter-contrib-nbextensions==0.5.0\n",
      "jupyter-core==4.4.0\n",
      "jupyter-highlight-selected-word==0.2.0\n",
      "jupyter-latex-envs==1.4.6\n",
      "jupyter-nbextensions-configurator==0.4.0\n",
      "jupyterlab==0.32.1\n",
      "jupyterlab-launcher==0.10.5\n",
      "jupyterthemes==0.20.0\n",
      "kiwisolver==1.0.1\n",
      "lazy-object-proxy==1.3.1\n",
      "lesscpy==0.13.0\n",
      "llvmlite==0.23.1\n",
      "locket==0.2.0\n",
      "lxml==4.2.3\n",
      "MarkupSafe==1.0\n",
      "matplotlib==2.2.2\n",
      "mccabe==0.6.1\n",
      "menuinst==1.4.14\n",
      "mistune==0.8.3\n",
      "mkl-fft==1.0.0\n",
      "mkl-random==1.0.1\n",
      "more-itertools==4.1.0\n",
      "mpmath==1.0.0\n",
      "msgpack-python==0.5.6\n",
      "multipledispatch==0.5.0\n",
      "munch==2.3.2\n",
      "navigator-updater==0.2.1\n",
      "nbconvert==5.3.1\n",
      "nbformat==4.4.0\n",
      "networkx==2.1\n",
      "nltk==3.3\n",
      "nose==1.3.7\n",
      "notebook==5.7.4\n",
      "numba==0.38.0\n",
      "numexpr==2.6.5\n",
      "numpy==1.14.3\n",
      "numpydoc==0.8.0\n",
      "odo==0.5.1\n",
      "olefile==0.45.1\n",
      "openpyxl==2.5.3\n",
      "packaging==17.1\n",
      "pandas==0.23.0\n",
      "pandocfilters==1.4.2\n",
      "parso==0.2.0\n",
      "partd==0.3.8\n",
      "path.py==11.0.1\n",
      "pathlib2==2.3.2\n",
      "patsy==0.5.0\n",
      "pep8==1.7.1\n",
      "pickleshare==0.7.4\n",
      "Pillow==5.1.0\n",
      "pkginfo==1.4.2\n",
      "pluggy==0.6.0\n",
      "ply==3.11\n",
      "prometheus-client==0.5.0\n",
      "prompt-toolkit==1.0.15\n",
      "psutil==5.4.5\n",
      "psycopg2==2.7.5\n",
      "py==1.5.3\n",
      "pycodestyle==2.4.0\n",
      "pycosat==0.6.3\n",
      "pycparser==2.18\n",
      "pycrypto==2.6.1\n",
      "pycurl==7.43.0.1\n",
      "pyflakes==1.6.0\n",
      "Pygments==2.2.0\n",
      "pylint==1.8.4\n",
      "pyodbc==4.0.23\n",
      "pyOpenSSL==18.0.0\n",
      "pyparsing==2.2.0\n",
      "pyproj==1.9.5.1\n",
      "pyreadline==2.1\n",
      "PySAL==1.14.4.post2\n",
      "pyshp==2.0.1\n",
      "PySocks==1.6.8\n",
      "pytest==3.5.1\n",
      "pytest-arraydiff==0.2\n",
      "pytest-astropy==0.3.0\n",
      "pytest-doctestplus==0.1.3\n",
      "pytest-openfiles==0.3.0\n",
      "pytest-remotedata==0.2.1\n",
      "python-dateutil==2.7.3\n",
      "pytz==2018.4\n",
      "PyWavelets==0.5.2\n",
      "pywin32==223\n",
      "pywinpty==0.5.1\n",
      "PyYAML==3.12\n",
      "pyzmq==17.0.0\n",
      "qgrid==1.1.1\n",
      "QtAwesome==0.4.4\n",
      "qtconsole==4.3.1\n",
      "QtPy==1.4.1\n",
      "requests==2.18.4\n",
      "rope==0.10.7\n",
      "Rtree==0.8.3\n",
      "ruamel-yaml==0.15.35\n",
      "scikit-image==0.13.1\n",
      "scikit-learn==0.19.1\n",
      "scipy==1.1.0\n",
      "seaborn==0.8.1\n",
      "Send2Trash==1.5.0\n",
      "Shapely==1.6.4.post2\n",
      "simplegeneric==0.8.1\n",
      "singledispatch==3.4.0.3\n",
      "six==1.11.0\n",
      "snowballstemmer==1.2.1\n",
      "sortedcollections==0.6.1\n",
      "sortedcontainers==1.5.10\n",
      "Sphinx==1.7.4\n",
      "sphinxcontrib-websupport==1.0.1\n",
      "spyder==3.2.8\n",
      "SQLAlchemy==1.2.7\n",
      "statsmodels==0.9.0\n",
      "sympy==1.1.1\n",
      "tables==3.4.4\n",
      "tblib==1.3.2\n",
      "terminado==0.8.1\n",
      "testpath==0.3.1\n",
      "toolz==0.9.0\n",
      "tornado==5.0.2\n",
      "traitlets==4.3.2\n",
      "typing==3.6.4\n",
      "unicodecsv==0.14.1\n",
      "urllib3==1.22\n",
      "wcwidth==0.1.7\n",
      "webencodings==0.5.1\n",
      "Werkzeug==0.14.1\n",
      "widgetsnbextension==3.2.1\n",
      "win-inet-pton==1.0.1\n",
      "win-unicode-console==0.5\n",
      "wincertstore==0.2\n",
      "wrapt==1.10.11\n",
      "xlrd==1.1.0\n",
      "XlsxWriter==1.0.4\n",
      "xlwings==0.11.8\n",
      "xlwt==1.3.0\n",
      "zict==0.1.3\n"
     ]
    }
   ],
   "source": [
    "# Gives version of all libraries\n",
    "!pip freeze"
   ]
  },
  {
   "cell_type": "code",
   "execution_count": null,
   "metadata": {},
   "outputs": [],
   "source": [
    "# For slideshow write below code in working directory\n",
    "\n",
    "jupyter nbconvert *.ipynb --to slides --post serve\n",
    "# insert your notebook name instead of *.ipynb"
   ]
  },
  {
   "cell_type": "code",
   "execution_count": 11,
   "metadata": {
    "ExecuteTime": {
     "end_time": "2018-12-23T23:10:34.238119Z",
     "start_time": "2018-12-23T23:10:28.720263Z"
    }
   },
   "outputs": [
    {
     "name": "stdout",
     "output_type": "stream",
     "text": [
      "Collecting autopep8\n",
      "  Downloading https://files.pythonhosted.org/packages/5b/ba/37d30e4263c51ee5a655118ac8c331e96a4e45fd4cea876a74b87af9ffc1/autopep8-1.4.3.tar.gz (113kB)\n",
      "Requirement already satisfied: pycodestyle>=2.4.0 in c:\\users\\hp\\anaconda3\\lib\\site-packages (from autopep8) (2.4.0)\n",
      "Building wheels for collected packages: autopep8\n",
      "  Running setup.py bdist_wheel for autopep8: started\n",
      "  Running setup.py bdist_wheel for autopep8: finished with status 'done'\n",
      "  Stored in directory: C:\\Users\\hp\\AppData\\Local\\pip\\Cache\\wheels\\91\\07\\fd\\99884826d575c769102ddec2f9b96c7ad57cc6b5ca3a5e02b4\n",
      "Successfully built autopep8\n",
      "Installing collected packages: autopep8\n",
      "Successfully installed autopep8-1.4.3\n"
     ]
    }
   ],
   "source": [
    "!pip install autopep8"
   ]
  },
  {
   "cell_type": "code",
   "execution_count": null,
   "metadata": {},
   "outputs": [],
   "source": []
  }
 ],
 "metadata": {
  "celltoolbar": "Slideshow",
  "kernelspec": {
   "display_name": "Python 3",
   "language": "python",
   "name": "python3"
  },
  "language_info": {
   "codemirror_mode": {
    "name": "ipython",
    "version": 3
   },
   "file_extension": ".py",
   "mimetype": "text/x-python",
   "name": "python",
   "nbconvert_exporter": "python",
   "pygments_lexer": "ipython3",
   "version": "3.6.5"
  },
  "toc": {
   "base_numbering": 1,
   "nav_menu": {},
   "number_sections": true,
   "sideBar": true,
   "skip_h1_title": false,
   "title_cell": "Table of Contents",
   "title_sidebar": "Contents",
   "toc_cell": false,
   "toc_position": {},
   "toc_section_display": true,
   "toc_window_display": false
  }
 },
 "nbformat": 4,
 "nbformat_minor": 2
}
